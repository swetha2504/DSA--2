{
 "cells": [
  {
   "cell_type": "markdown",
   "id": "5b134a52",
   "metadata": {},
   "source": [
    "### 10.Implement a queue using the stack data structure"
   ]
  },
  {
   "cell_type": "code",
   "execution_count": 3,
   "id": "7d572dd2",
   "metadata": {},
   "outputs": [
    {
     "name": "stdout",
     "output_type": "stream",
     "text": [
      "1\n",
      "2\n",
      "3\n"
     ]
    }
   ],
   "source": [
    "class Queue:\n",
    "    \n",
    "    def __init__(self):\n",
    "        self.s1 = []\n",
    "        self.s2 = []\n",
    " \n",
    "    def enQueue(self, x):\n",
    "         \n",
    "        while len(self.s1)!= 0:\n",
    "            self.s2.append(self.s1[-1])\n",
    "            self.s1.pop()\n",
    "        self.s1.append(x)\n",
    "\n",
    "        while len(self.s2)!= 0:\n",
    "            self.s1.append(self.s2[-1])\n",
    "            self.s2.pop()\n",
    "    def deQueue(self):\n",
    "         \n",
    "        if len(self.s1) == 0:\n",
    "            return -1;\n",
    "        x = self.s1[-1]\n",
    "        self.s1.pop()\n",
    "        return x\n",
    "    \n",
    "if __name__ == '__main__':\n",
    "    q = Queue()\n",
    "    q.enQueue(1)\n",
    "    q.enQueue(2)\n",
    "    q.enQueue(3)\n",
    "    \n",
    "    \n",
    "    print(q.deQueue())\n",
    "    print(q.deQueue())\n",
    "    print(q.deQueue())\n",
    "    \n",
    "\n",
    "   "
   ]
  },
  {
   "cell_type": "markdown",
   "id": "7b8277dd",
   "metadata": {},
   "source": [
    "### 9.Evaluate a postfix expression using stack"
   ]
  },
  {
   "cell_type": "code",
   "execution_count": 4,
   "id": "5eec1449",
   "metadata": {},
   "outputs": [
    {
     "name": "stdout",
     "output_type": "stream",
     "text": [
      "postfix evaluation:  -4\n"
     ]
    }
   ],
   "source": [
    "class Evaluate:\n",
    "\n",
    "\n",
    "    def __init__(self, capacity):\n",
    "\n",
    "        self.top = -1\n",
    "        self.capacity = capacity\n",
    "        self.array = []\n",
    "\n",
    "\n",
    "    def isEmpty(self):\n",
    "            if self.top == -1 :\n",
    "                return True\n",
    "            else: \n",
    "                 return False\n",
    "    def peek(self):\n",
    "\n",
    "            return self.array[-1]\n",
    "    def pop(self):\n",
    "\n",
    "            if not self.isEmpty():\n",
    "\n",
    "                self.top -= 1\n",
    "\n",
    "                return self.array.pop()\n",
    "\n",
    "            else:\n",
    "\n",
    "                 return None\n",
    "    def push(self, num):\n",
    "\n",
    "            self.top += 1\n",
    "            self.array.append(num)\n",
    "            \n",
    "            \n",
    "    def evaluatePostfix(self, exp):\n",
    "        for i in exp:\n",
    "                if i.isdigit():\n",
    "                    self.push(i)\n",
    "                else:\n",
    "                    val1 = self.pop()\n",
    "                    val2 = self.pop()\n",
    "                    self.push(str(eval(val2 + i + val1)))\n",
    "        return int(self.pop())\n",
    "        \n",
    "if __name__ == '__main__':\n",
    "    exp = \"231*+9-\"\n",
    "    \n",
    "    obj = Evaluate(len(exp))\n",
    "    post=obj.evaluatePostfix(exp)\n",
    "        \n",
    "    print(\"postfix evaluation: \",post)"
   ]
  },
  {
   "cell_type": "markdown",
   "id": "893911d7",
   "metadata": {},
   "source": [
    "### 8.Reverse a string using a stack data structure"
   ]
  },
  {
   "cell_type": "code",
   "execution_count": 5,
   "id": "3e0d2f39",
   "metadata": {},
   "outputs": [
    {
     "name": "stdout",
     "output_type": "stream",
     "text": [
      "enter the string name : datascience\n",
      "enter the reverse string name : ecneicsatad\n"
     ]
    }
   ],
   "source": [
    "import string\n",
    " \n",
    "def Reverse(s):\n",
    "    stack = []\n",
    "    for i in s:\n",
    "        stack.append(i)\n",
    "        s = \"\"\n",
    "    while stack:\n",
    "        s += stack.pop()\n",
    "    return s\n",
    "if __name__ == \"__main__\":\n",
    "        str = \"datascience\"\n",
    "        print(\"enter the string name :\",str)\n",
    "        reversed_str = Reverse(str)\n",
    "        print(\"enter the reverse string name :\",reversed_str)\n",
    " \n",
    "    "
   ]
  },
  {
   "cell_type": "markdown",
   "id": "b80f29bb",
   "metadata": {},
   "source": [
    "### 6.Find the Kth largest and Kth smallest number in an array"
   ]
  },
  {
   "cell_type": "code",
   "execution_count": 8,
   "id": "a7d0e364",
   "metadata": {},
   "outputs": [
    {
     "name": "stdout",
     "output_type": "stream",
     "text": [
      "enter the array :[1,4,5,6,8,9,8]\n",
      "1\n",
      "K th maximum element is:  9\n",
      "K th minimum element is:  1\n"
     ]
    }
   ],
   "source": [
    "def findkmax(k, array):\n",
    "    \n",
    "    array.sort(reverse=True)\n",
    "\n",
    "    \n",
    "    print(\"K th maximum element is: \", array[k - 1])\n",
    "\n",
    "\n",
    "def findkmin(k, array):\n",
    "   \n",
    "    array.sort()\n",
    "\n",
    "    \n",
    "    print(\"K th minimum element is: \", array[k - 1])\n",
    "\n",
    "\n",
    "array = eval(input(\"enter the array :\"))\n",
    "\n",
    "k = int(input())\n",
    "findkmax(k,array)\n",
    "findkmin(k,array)"
   ]
  },
  {
   "cell_type": "markdown",
   "id": "1a39b326",
   "metadata": {},
   "source": []
  },
  {
   "cell_type": "markdown",
   "id": "2b62f537",
   "metadata": {},
   "source": [
    "### 7.Move all the negative elements to one side of the array"
   ]
  },
  {
   "cell_type": "code",
   "execution_count": 7,
   "id": "687531d8",
   "metadata": {},
   "outputs": [
    {
     "name": "stdout",
     "output_type": "stream",
     "text": [
      "enter the array :[1,4,-5,6,-8,9,8,-4]\n",
      "After moving all negative element [9, 8, 6, 4, 1, -4, -5, -8]\n"
     ]
    }
   ],
   "source": [
    "array = eval(input(\"enter the array :\"))\n",
    "\n",
    "def find(array):\n",
    "    array.sort(reverse=True)\n",
    "    print(\"After moving all negative element\",array)\n",
    "find(array)"
   ]
  },
  {
   "cell_type": "code",
   "execution_count": null,
   "id": "1dbc248b",
   "metadata": {},
   "outputs": [],
   "source": []
  }
 ],
 "metadata": {
  "kernelspec": {
   "display_name": "Python 3 (ipykernel)",
   "language": "python",
   "name": "python3"
  },
  "language_info": {
   "codemirror_mode": {
    "name": "ipython",
    "version": 3
   },
   "file_extension": ".py",
   "mimetype": "text/x-python",
   "name": "python",
   "nbconvert_exporter": "python",
   "pygments_lexer": "ipython3",
   "version": "3.10.9"
  }
 },
 "nbformat": 4,
 "nbformat_minor": 5
}
